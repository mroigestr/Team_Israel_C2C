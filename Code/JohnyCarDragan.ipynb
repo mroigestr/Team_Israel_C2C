{
 "cells": [
  {
   "cell_type": "code",
   "execution_count": 7,
   "metadata": {},
   "outputs": [],
   "source": [
    "import cv2 as cv\n",
    "import collections as col\n",
    "import os.path\n",
    "from typing import List\n",
    "import os\n",
    "import datetime\n",
    "import matplotlib.pyplot as plt\n",
    "import numpy as np\n",
    "import pandas as pd\n",
    "from sklearn.model_selection import train_test_split\n",
    "import tensorflow as tf\n",
    "from tensorflow.keras import Sequential\n",
    "from tensorflow.keras.layers import Dense\n",
    "#from tensorflow.keras.layers import Normalization\n",
    "from tensorflow.keras.optimizers import Adam\n",
    "from tensorflow.keras.callbacks import TensorBoard\n",
    "\n",
    "# Make NumPy printouts easier to read.\n",
    "np.set_printoptions(precision=3, suppress=True)"
   ]
  },
  {
   "cell_type": "code",
   "execution_count": 12,
   "metadata": {},
   "outputs": [
    {
     "name": "stdout",
     "output_type": "stream",
     "text": [
      "(1243, 168, 640, 3)\n",
      "(1243,)\n"
     ]
    }
   ],
   "source": [
    "\n",
    "\n",
    "\n",
    "def load_images_from_folder(images_FP7):\n",
    "    images = []\n",
    "    list_lw = []\n",
    "    for bild in os.listdir(images_FP7):\n",
    "    \n",
    "        #print(bild)\n",
    "        name = bild.split('_')\n",
    "        lw_in_name = name[3].split('.')\n",
    "        lenkwinkel = int(lw_in_name[0])\n",
    "        # print(name)\n",
    "        # print(lenkwinkel)\n",
    "        img = cv.imread(os.path.join(images_FP7,bild))\n",
    "        #print(img.shape)\n",
    "        #image_lw = [img, lenkwinkel]\n",
    "        if img is not None:\n",
    "            images.append(img)\n",
    "            list_lw.append(lenkwinkel)\n",
    "            \n",
    "    return images, list_lw\n",
    "\n",
    "    #Lenkwinkel_Dict:\n",
    "    #path_dir: str = r\"/home/imm-81/c2c/camp2code-project_phase_2/Code/images_FP7\"\n",
    "\n",
    "    #content_dir: List[str] = os.listdir(path_dir)\n",
    "#df = pd.DataFrame\n",
    "X1, y = load_images_from_folder('images_FP7')\n",
    "X = np.array(X1)\n",
    "y = np.array(y).astype('float')\n",
    "print(X.shape)\n",
    "print(y.shape)\n",
    "\n",
    "# Bild_list_array = load_images_from_folder('images_FP7')\n",
    "# print(len(Bild_list_array))\n",
    "# bild_act = Bild_list_array[0]\n",
    "# print(bild_act[1])\n",
    "# print(len(bild_act[0]))\n",
    "# print(bild_act[0].shape)\n",
    "# cv.imshow('test', bild_act[0])\n",
    "# cv.waitKey(0)\n",
    "# cv.destroyAllWindows()\n",
    "\n",
    "\n",
    "\n"
   ]
  },
  {
   "cell_type": "code",
   "execution_count": 13,
   "metadata": {},
   "outputs": [
    {
     "data": {
      "text/plain": [
       "shape        \n",
       "(168, 640, 3)    1243\n",
       "dtype: int64"
      ]
     },
     "execution_count": 13,
     "metadata": {},
     "output_type": "execute_result"
    }
   ],
   "source": [
    "import pandas as pd\n",
    "pd.DataFrame({'shape':[x.shape for x in X]}).value_counts()\n"
   ]
  },
  {
   "cell_type": "code",
   "execution_count": 14,
   "metadata": {},
   "outputs": [],
   "source": [
    "from sklearn.model_selection import train_test_split\n",
    "X_train, X_test, y_train, y_test = train_test_split(X, y, test_size = 0.2, random_state = 1)\n",
    "# print(X_train)"
   ]
  },
  {
   "cell_type": "code",
   "execution_count": 15,
   "metadata": {},
   "outputs": [],
   "source": [
    "# Keras Sequntial API\n",
    "\n",
    "from tensorflow.keras.layers import Conv2D, Dropout, Flatten\n",
    "model = tf.keras.Sequential(name='Team_Israel')\n",
    "# Convolution Layers\n",
    "# elu: Expenential Linear Unit, similar to leaky Relu\n",
    "model.add(Conv2D(24, (5, 5), strides=(2, 2), input_shape=(168,640,3),activation='elu'))\n",
    "model.add(Conv2D(36, (5, 5), strides=(2, 2), activation='elu'))\n",
    "model.add(Conv2D(48, (5, 5), strides=(2, 2), activation='elu'))\n",
    "model.add(Conv2D(64, (3, 3), activation='elu'))\n",
    "model.add(Dropout(0.2)) # more robustness\n",
    "model.add(Conv2D(64, (3, 3), activation='elu'))\n",
    "# Fully Connected Layers\n",
    "model.add(Flatten())\n",
    "model.add(Dropout(0.2)) # more robustness\n",
    "model.add(Dense(100, activation='elu'))\n",
    "model.add(Dense(50, activation='elu'))\n",
    "model.add(Dense(10, activation='elu'))\n",
    "# Output Layer: turning angle\n",
    "model.add(Dense(1)) "
   ]
  },
  {
   "cell_type": "code",
   "execution_count": 16,
   "metadata": {},
   "outputs": [
    {
     "name": "stdout",
     "output_type": "stream",
     "text": [
      "Model: \"Team_Israel\"\n",
      "_________________________________________________________________\n",
      " Layer (type)                Output Shape              Param #   \n",
      "=================================================================\n",
      " conv2d_5 (Conv2D)           (None, 82, 318, 24)       1824      \n",
      "                                                                 \n",
      " conv2d_6 (Conv2D)           (None, 39, 157, 36)       21636     \n",
      "                                                                 \n",
      " conv2d_7 (Conv2D)           (None, 18, 77, 48)        43248     \n",
      "                                                                 \n",
      " conv2d_8 (Conv2D)           (None, 16, 75, 64)        27712     \n",
      "                                                                 \n",
      " dropout_2 (Dropout)         (None, 16, 75, 64)        0         \n",
      "                                                                 \n",
      " conv2d_9 (Conv2D)           (None, 14, 73, 64)        36928     \n",
      "                                                                 \n",
      " flatten_1 (Flatten)         (None, 65408)             0         \n",
      "                                                                 \n",
      " dropout_3 (Dropout)         (None, 65408)             0         \n",
      "                                                                 \n",
      " dense_4 (Dense)             (None, 100)               6540900   \n",
      "                                                                 \n",
      " dense_5 (Dense)             (None, 50)                5050      \n",
      "                                                                 \n",
      " dense_6 (Dense)             (None, 10)                510       \n",
      "                                                                 \n",
      " dense_7 (Dense)             (None, 1)                 11        \n",
      "                                                                 \n",
      "=================================================================\n",
      "Total params: 6,677,819\n",
      "Trainable params: 6,677,819\n",
      "Non-trainable params: 0\n",
      "_________________________________________________________________\n"
     ]
    }
   ],
   "source": [
    "model.summary()"
   ]
  },
  {
   "cell_type": "code",
   "execution_count": 17,
   "metadata": {},
   "outputs": [],
   "source": [
    "# Kompilierung des Modells. Ein nicht kompiliertes Modell kann nicht trainiert werden!\n",
    "from tensorflow.keras.optimizers import Adam\n",
    "model.compile(\n",
    "    optimizer=Adam(learning_rate=0.005), # Festlegen eines Opimizers und der Schrittweite\n",
    "    loss='mse')"
   ]
  },
  {
   "cell_type": "code",
   "execution_count": 31,
   "metadata": {
    "scrolled": false
   },
   "outputs": [
    {
     "name": "stdout",
     "output_type": "stream",
     "text": [
      "Epoch 1/100\n",
      "4/4 [==============================] - 16s 4s/step - loss: 206.9753 - val_loss: 232.1294\n",
      "Epoch 2/100\n",
      "4/4 [==============================] - 17s 4s/step - loss: 202.2684 - val_loss: 217.7430\n",
      "Epoch 3/100\n",
      "4/4 [==============================] - 22s 5s/step - loss: 212.9850 - val_loss: 219.5308\n",
      "Epoch 4/100\n",
      "4/4 [==============================] - 23s 5s/step - loss: 207.3717 - val_loss: 235.0376\n",
      "Epoch 5/100\n",
      "4/4 [==============================] - 22s 5s/step - loss: 207.6151 - val_loss: 241.6453\n",
      "Epoch 6/100\n",
      "4/4 [==============================] - 23s 5s/step - loss: 209.2116 - val_loss: 218.7969\n",
      "Epoch 7/100\n",
      "4/4 [==============================] - 22s 5s/step - loss: 209.5303 - val_loss: 221.7160\n",
      "Type des Rückgabeobjektes <class 'keras.callbacks.History'>\n",
      "Type des Attribute \"history\" Rückgabeobjektes <class 'keras.callbacks.History'>\n",
      "Keys des Dictionaries: dict_keys(['loss', 'val_loss'])\n"
     ]
    }
   ],
   "source": [
    "# Durchführung des Trainings mittels der Methode fit am kompilierten Modell.\n",
    "# Die Methode gibt ein Objekt zurück, welches den Trainingsverlauf dokumentiert.\n",
    "history = model.fit(\n",
    "    X_train,                 # Trainingsmerkmale\n",
    "    y_train,                 # Trainingszielmerkmal\n",
    "    batch_size=250,           # Anzahl der verwendeten Trainingsdatensätze pro Trainingsschritt (Gradientenabstieg)\n",
    "    epochs=100,              # Eine Epoche ist beendet wenn alle Traingsdaten verwendet wurden.\n",
    "    verbose=1,               # Unterdrückt Ausgabe während des Trainings\n",
    "    validation_split = 0.2,  # Es wird ein Validierungset verwendet. Dieses ist in jeder Epoche das Selbe.\n",
    "    callbacks = [tf.keras.callbacks.EarlyStopping(monitor='val_loss',patience=5)] #Erlaubt den Abbruch des Trainings falls 5 in Epochen keine Verbesserung in der Fehlerfunktion für das Validierungsset gefunden wurde\n",
    "    )\n",
    "model.save(\"Dragan2.h5\")\n",
    "print('Type des Rückgabeobjektes',type(history))\n",
    "print('Type des Attribute \"history\" Rückgabeobjektes',type(history))\n",
    "print('Keys des Dictionaries:',history.history.keys())"
   ]
  },
  {
   "cell_type": "code",
   "execution_count": 19,
   "metadata": {},
   "outputs": [
    {
     "data": {
      "image/png": "[encoded data removed]",
      "text/plain": [
       "<Figure size 360x360 with 1 Axes>"
      ]
     },
     "metadata": {
      "needs_background": "light"
     },
     "output_type": "display_data"
    },
    {
     "data": {
      "image/png": "[encoded data removed]",
      "text/plain": [
       "<Figure size 360x360 with 1 Axes>"
      ]
     },
     "metadata": {
      "needs_background": "light"
     },
     "output_type": "display_data"
    }
   ],
   "source": [
    "# Graphische Darstellung der Fehler während des Trainings.\n",
    "\n",
    "def plot_training_curve(history, xlim=None, ylim=None,keys=['loss']):\n",
    "    for key in keys:\n",
    "        plt.figure(figsize=(5, 5))\n",
    "        #plt.subplot(2, 2, 1)\n",
    "        plt.plot(history.history[key], label=key)\n",
    "        plt.plot(history.history['val_'+key], label='Validation '+key)\n",
    "        plt.legend()\n",
    "        plt.title('Training - '+key+' Function')\n",
    "        plt.xlabel('Epochs')\n",
    "        plt.ylabel(key)\n",
    "        plt.grid()\n",
    "        if xlim:\n",
    "            plt.xlim(xlim)\n",
    "        if ylim:\n",
    "            plt.ylim(ylim)\n",
    "\n",
    " \n",
    "\n",
    "plot_training_curve(history)\n",
    "# Vergößerung (xlim und ylim ev. anpassen!)\n",
    "plot_training_curve(history,xlim=(0,18),ylim=(0,1000))"
   ]
  },
  {
   "cell_type": "markdown",
   "metadata": {},
   "source": []
  },
  {
   "cell_type": "code",
   "execution_count": 20,
   "metadata": {},
   "outputs": [],
   "source": [
    "model.save(\"Dragan2.h5\")"
   ]
  },
  {
   "cell_type": "code",
   "execution_count": 21,
   "metadata": {},
   "outputs": [],
   "source": [
    "from tensorflow.keras.models import load_model"
   ]
  },
  {
   "cell_type": "code",
   "execution_count": 22,
   "metadata": {},
   "outputs": [],
   "source": [
    "testmodel = load_model(\"Dragan2.h5\")\n"
   ]
  },
  {
   "cell_type": "code",
   "execution_count": 23,
   "metadata": {
    "scrolled": true
   },
   "outputs": [
    {
     "data": {
      "text/plain": [
       "array([[ 98.186],\n",
       "       [ 57.831],\n",
       "       [ 78.499],\n",
       "       [ 86.654],\n",
       "       [ 84.115],\n",
       "       [ 72.122],\n",
       "       [ 92.499],\n",
       "       [ 88.312],\n",
       "       [ 96.416],\n",
       "       [ 85.354],\n",
       "       [ 85.042],\n",
       "       [ 72.206],\n",
       "       [ 65.002],\n",
       "       [ 81.256],\n",
       "       [ 64.423],\n",
       "       [ 75.268],\n",
       "       [ 89.783],\n",
       "       [ 92.332],\n",
       "       [ 60.452],\n",
       "       [ 86.709],\n",
       "       [ 81.271],\n",
       "       [ 78.213],\n",
       "       [ 84.798],\n",
       "       [ 79.866],\n",
       "       [102.672],\n",
       "       [ 77.407],\n",
       "       [ 82.276],\n",
       "       [ 78.923],\n",
       "       [ 68.348],\n",
       "       [ 62.569],\n",
       "       [ 72.737],\n",
       "       [ 81.908],\n",
       "       [ 80.97 ],\n",
       "       [ 60.006],\n",
       "       [ 90.17 ],\n",
       "       [ 74.416],\n",
       "       [ 63.115],\n",
       "       [ 66.039],\n",
       "       [ 97.326],\n",
       "       [ 89.263],\n",
       "       [ 68.014],\n",
       "       [ 91.937],\n",
       "       [104.807],\n",
       "       [ 81.891],\n",
       "       [ 79.449],\n",
       "       [ 67.272],\n",
       "       [ 82.912],\n",
       "       [ 84.45 ],\n",
       "       [ 89.693],\n",
       "       [ 91.485],\n",
       "       [ 74.142],\n",
       "       [ 81.305],\n",
       "       [ 83.776],\n",
       "       [ 67.741],\n",
       "       [ 62.022],\n",
       "       [ 83.923],\n",
       "       [ 80.863],\n",
       "       [ 79.62 ],\n",
       "       [ 78.634],\n",
       "       [ 90.652],\n",
       "       [ 89.125],\n",
       "       [ 88.746],\n",
       "       [ 93.776],\n",
       "       [ 78.028],\n",
       "       [ 92.419],\n",
       "       [ 90.453],\n",
       "       [ 96.639],\n",
       "       [ 76.515],\n",
       "       [ 77.411],\n",
       "       [ 73.664],\n",
       "       [ 84.664],\n",
       "       [ 81.518],\n",
       "       [ 53.432],\n",
       "       [ 69.498],\n",
       "       [ 84.042],\n",
       "       [ 87.916],\n",
       "       [ 92.269],\n",
       "       [ 83.115],\n",
       "       [ 73.263],\n",
       "       [ 99.105],\n",
       "       [ 82.443],\n",
       "       [ 91.777],\n",
       "       [ 74.452],\n",
       "       [ 85.147],\n",
       "       [ 56.879],\n",
       "       [ 63.462],\n",
       "       [ 72.987],\n",
       "       [ 89.344],\n",
       "       [ 85.15 ],\n",
       "       [ 77.358],\n",
       "       [ 88.645],\n",
       "       [ 90.092],\n",
       "       [ 83.218],\n",
       "       [ 95.356],\n",
       "       [ 78.765],\n",
       "       [ 78.562],\n",
       "       [ 71.529],\n",
       "       [ 74.691],\n",
       "       [ 87.686],\n",
       "       [ 60.26 ],\n",
       "       [ 83.87 ],\n",
       "       [ 82.3  ],\n",
       "       [ 71.181],\n",
       "       [ 99.061],\n",
       "       [ 80.855],\n",
       "       [ 81.089],\n",
       "       [ 60.377],\n",
       "       [ 92.563],\n",
       "       [ 75.701],\n",
       "       [ 62.05 ],\n",
       "       [ 97.1  ],\n",
       "       [ 43.929],\n",
       "       [ 78.308],\n",
       "       [ 76.519],\n",
       "       [ 66.255],\n",
       "       [ 76.922],\n",
       "       [ 93.792],\n",
       "       [ 92.969],\n",
       "       [ 76.762],\n",
       "       [ 70.04 ],\n",
       "       [ 85.02 ],\n",
       "       [ 75.503],\n",
       "       [ 78.345],\n",
       "       [ 66.573],\n",
       "       [ 70.147],\n",
       "       [ 80.218],\n",
       "       [ 74.742],\n",
       "       [ 68.706],\n",
       "       [ 83.088],\n",
       "       [ 83.454],\n",
       "       [ 65.688],\n",
       "       [ 97.296],\n",
       "       [ 65.463],\n",
       "       [ 97.901],\n",
       "       [ 77.263],\n",
       "       [ 79.079],\n",
       "       [ 85.353],\n",
       "       [ 75.811],\n",
       "       [ 90.618],\n",
       "       [ 73.423],\n",
       "       [ 64.082],\n",
       "       [ 69.37 ],\n",
       "       [ 95.221],\n",
       "       [ 87.575],\n",
       "       [ 84.162],\n",
       "       [ 71.086],\n",
       "       [ 93.468],\n",
       "       [ 83.809],\n",
       "       [ 66.668],\n",
       "       [ 89.196],\n",
       "       [ 82.528],\n",
       "       [ 61.399],\n",
       "       [ 95.784],\n",
       "       [ 60.89 ],\n",
       "       [ 69.224],\n",
       "       [ 67.205],\n",
       "       [ 88.579],\n",
       "       [ 82.852],\n",
       "       [ 53.711],\n",
       "       [ 72.516],\n",
       "       [ 88.104],\n",
       "       [ 66.767],\n",
       "       [ 82.479],\n",
       "       [ 71.914],\n",
       "       [ 96.801],\n",
       "       [ 87.82 ],\n",
       "       [ 85.709],\n",
       "       [ 79.725],\n",
       "       [ 86.346],\n",
       "       [ 93.59 ],\n",
       "       [ 56.523],\n",
       "       [ 89.12 ],\n",
       "       [ 81.387],\n",
       "       [ 65.795],\n",
       "       [ 53.272],\n",
       "       [ 55.583],\n",
       "       [ 76.236],\n",
       "       [ 86.511],\n",
       "       [ 84.005],\n",
       "       [ 76.378],\n",
       "       [ 79.12 ],\n",
       "       [ 95.909],\n",
       "       [102.874],\n",
       "       [ 86.059],\n",
       "       [ 77.512],\n",
       "       [ 79.447],\n",
       "       [ 82.555],\n",
       "       [ 67.742],\n",
       "       [ 71.956],\n",
       "       [ 82.048],\n",
       "       [ 81.518],\n",
       "       [ 71.253],\n",
       "       [ 85.716],\n",
       "       [ 79.556],\n",
       "       [ 87.346],\n",
       "       [ 92.551],\n",
       "       [ 94.413],\n",
       "       [ 75.031],\n",
       "       [ 75.754],\n",
       "       [ 82.308],\n",
       "       [ 80.507],\n",
       "       [ 87.405],\n",
       "       [ 82.894],\n",
       "       [ 84.128],\n",
       "       [ 78.225],\n",
       "       [ 71.112],\n",
       "       [ 90.605],\n",
       "       [ 91.275],\n",
       "       [ 82.843],\n",
       "       [ 91.483],\n",
       "       [ 90.158],\n",
       "       [ 70.568],\n",
       "       [ 56.331],\n",
       "       [ 90.5  ],\n",
       "       [ 83.52 ],\n",
       "       [ 77.626],\n",
       "       [ 80.458],\n",
       "       [ 71.917],\n",
       "       [ 72.367],\n",
       "       [ 92.078],\n",
       "       [ 67.124],\n",
       "       [ 93.694],\n",
       "       [ 84.909],\n",
       "       [ 70.768],\n",
       "       [ 71.937],\n",
       "       [ 84.837],\n",
       "       [ 92.458],\n",
       "       [ 93.106],\n",
       "       [ 66.663],\n",
       "       [ 81.292],\n",
       "       [ 66.783],\n",
       "       [ 75.605],\n",
       "       [ 87.181],\n",
       "       [ 73.141],\n",
       "       [ 81.875],\n",
       "       [ 60.683],\n",
       "       [ 85.848],\n",
       "       [ 94.122],\n",
       "       [ 70.496],\n",
       "       [ 90.331],\n",
       "       [ 71.085],\n",
       "       [ 78.305],\n",
       "       [ 91.075],\n",
       "       [ 79.529],\n",
       "       [ 75.289],\n",
       "       [ 93.865],\n",
       "       [ 81.572],\n",
       "       [ 80.875],\n",
       "       [ 74.901]], dtype=float32)"
      ]
     },
     "execution_count": 23,
     "metadata": {},
     "output_type": "execute_result"
    }
   ],
   "source": [
    "testmodel.predict(X_test)"
   ]
  },
  {
   "cell_type": "code",
   "execution_count": 24,
   "metadata": {
    "scrolled": true
   },
   "outputs": [
    {
     "data": {
      "image/png": "[encoded data removed]",
      "text/plain": [
       "<Figure size 720x360 with 2 Axes>"
      ]
     },
     "metadata": {
      "needs_background": "light"
     },
     "output_type": "display_data"
    }
   ],
   "source": [
    "def plot_real_vs_predicted(model, Xtrain,y_train,Xtest,y_test):\n",
    "    y_train_pred = model.predict(X_train)   # Verwendung der Methode predict wird in Funkt. integriert\n",
    "    y_test_pred = model.predict(X_test)     # Verwendung der Methode predict\n",
    "    y_max = np.max([y_train.max(),y_train_pred.max(),y_test.max(),y_test_pred.max()])\n",
    "    # Graphische Darstellung\n",
    "    # Trainingdaten\n",
    "    plt.figure(figsize=(10, 5))\n",
    "    plt.subplot(1, 2, 1)\n",
    "    plt.plot(y_train,y_train_pred,'rx')\n",
    "    plt.plot([0,y_max],[0,y_max],'k-')\n",
    "    plt.title('real vs. predicted')\n",
    "    plt.xlabel('real')\n",
    "    plt.ylabel('predicted')\n",
    "    plt.grid()\n",
    "    # Testdaten\n",
    "    plt.subplot(1, 2, 2)\n",
    "    plt.plot(y_test,model.predict(X_test),'bx')\n",
    "    plt.plot([0,y_max],[0,y_max],'k-')\n",
    "    plt.title('real values vs. predicted values')\n",
    "    plt.xlabel('real')\n",
    "    plt.ylabel('predicted')\n",
    "    plt.grid()\n",
    "\n",
    "plot_real_vs_predicted(model, X_train,y_train,X_test,y_test)"
   ]
  },
  {
   "cell_type": "code",
   "execution_count": 28,
   "metadata": {},
   "outputs": [
    {
     "name": "stdout",
     "output_type": "stream",
     "text": [
      "MSE train: 213.81549072265625\n",
      "MSE test : 173.55308532714844\n"
     ]
    }
   ],
   "source": [
    "mse_train_linear_model_FuncAPI = model.evaluate(X_train, y_train, verbose=0)\n",
    "mse_test_linear_model_FuncAPI = model.evaluate(X_test, y_test, verbose=0)\n",
    "print('MSE train:',mse_train_linear_model_FuncAPI)\n",
    "print('MSE test :',mse_test_linear_model_FuncAPI)"
   ]
  },
  {
   "cell_type": "code",
   "execution_count": null,
   "metadata": {},
   "outputs": [],
   "source": []
  },
  {
   "cell_type": "code",
   "execution_count": null,
   "metadata": {},
   "outputs": [],
   "source": []
  }
 ],
 "metadata": {
  "interpreter": {
   "hash": "916dbcbb3f70747c44a77c7bcd40155683ae19c65e1c03b4aa3499c5328201f1"
  },
  "kernelspec": {
   "display_name": "Python 3",
   "language": "python",
   "name": "python3"
  },
  "language_info": {
   "codemirror_mode": {
    "name": "ipython",
    "version": 3
   },
   "file_extension": ".py",
   "mimetype": "text/x-python",
   "name": "python",
   "nbconvert_exporter": "python",
   "pygments_lexer": "ipython3",
   "version": "3.9.4"
  }
 },
 "nbformat": 4,
 "nbformat_minor": 2
}
