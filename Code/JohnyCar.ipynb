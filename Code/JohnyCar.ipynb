{
 "cells": [
  {
   "cell_type": "code",
   "execution_count": 49,
   "metadata": {},
   "outputs": [],
   "source": [
    "from tensorflow.keras.models import Sequential\n",
    "from tensorflow.keras.layers import Conv2D,MaxPooling2D,Dense,Flatten,Dropout\n",
    "from tensorflow.keras.optimizers import Adam\n",
    "from sklearn.model_selection import train_test_split\n",
    "\n",
    "\n",
    "\n",
    "import cv2 as cv\n",
    "import matplotlib.pyplot as plt\n",
    "import numpy as np\n",
    "import collections as col\n",
    "import csv\n",
    "from datetime import datetime\n",
    "import os.path\n",
    "from typing import List"
   ]
  },
  {
   "cell_type": "code",
   "execution_count": 76,
   "metadata": {},
   "outputs": [
    {
     "name": "stdout",
     "output_type": "stream",
     "text": [
      "157\n",
      "118\n"
     ]
    }
   ],
   "source": [
    "\n",
    "\n",
    "\n",
    "def load_images_from_folder(images_FP7):\n",
    "    images = []\n",
    "    \n",
    "    for bild in os.listdir(images_FP7):\n",
    "    \n",
    "        #print(bild)\n",
    "        name = bild.split('_')\n",
    "        lw_in_name = name[3].split('.')\n",
    "        lenkwinkel = int(lw_in_name[0])\n",
    "        # print(name)\n",
    "        # print(lenkwinkel)\n",
    "        img = cv.imread(os.path.join(images_FP7,bild))\n",
    "        image_lw = [img, lenkwinkel]\n",
    "        if img is not None:\n",
    "            images.append(image_lw)\n",
    "            \n",
    "    return images\n",
    "\n",
    "    #Lenkwinkel_Dict:\n",
    "    #path_dir: str = r\"/home/imm-81/c2c/camp2code-project_phase_2/Code/images_FP7\"\n",
    "\n",
    "    #content_dir: List[str] = os.listdir(path_dir)\n",
    "\n",
    "Bild_list_array = load_images_from_folder('images_FP7')\n",
    "print(len(Bild_list_array))\n",
    "bild_act = Bild_list_array[0]\n",
    "print(bild_act[1])\n",
    "cv.imshow('test', bild_act[0])\n",
    "cv.waitKey(0)\n",
    "cv.destroyAllWindows()\n",
    "\n",
    "\n",
    "\n"
   ]
  },
  {
   "cell_type": "code",
   "execution_count": null,
   "metadata": {},
   "outputs": [],
   "source": [
    "X_train, X_test, y_train, x_test = train_test_split(X, y, test_size = 0.2, random_state = 1)\n",
    "\n",
    "cnn_model = Sequential([\n",
    "    Conv2D(filters=32, kernel_size=3,activation='relu',input_shape = image_shape),\n",
    "    MaxPooling2D(pool_size=2),\n",
    "    Dropout(0.2),\n",
    "    Flatten(),\n",
    "    Dense(128,activation='relu'),\n",
    "    Dense(10,activation = 'softmax') # Softmax-Schicht\n",
    "])"
   ]
  }
 ],
 "metadata": {
  "interpreter": {
   "hash": "916dbcbb3f70747c44a77c7bcd40155683ae19c65e1c03b4aa3499c5328201f1"
  },
  "kernelspec": {
   "display_name": "Python 3.7.3 32-bit",
   "language": "python",
   "name": "python3"
  },
  "language_info": {
   "codemirror_mode": {
    "name": "ipython",
    "version": 3
   },
   "file_extension": ".py",
   "mimetype": "text/x-python",
   "name": "python",
   "nbconvert_exporter": "python",
   "pygments_lexer": "ipython3",
   "version": "3.7.3"
  },
  "orig_nbformat": 4
 },
 "nbformat": 4,
 "nbformat_minor": 2
}
